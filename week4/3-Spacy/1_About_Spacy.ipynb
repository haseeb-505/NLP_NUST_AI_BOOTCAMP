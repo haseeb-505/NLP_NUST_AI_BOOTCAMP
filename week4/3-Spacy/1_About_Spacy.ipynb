{
  "nbformat": 4,
  "nbformat_minor": 0,
  "metadata": {
    "colab": {
      "provenance": []
    },
    "kernelspec": {
      "name": "python3",
      "display_name": "Python 3"
    },
    "language_info": {
      "name": "python"
    }
  },
  "cells": [
    {
      "cell_type": "code",
      "execution_count": 1,
      "metadata": {
        "id": "a_rYqnCirF2x"
      },
      "outputs": [],
      "source": [
        "# Import spaCy\n",
        "import spacy\n",
        "\n",
        "# Create a blank English nlp object\n",
        "nlp = spacy.blank(\"en\")"
      ]
    },
    {
      "cell_type": "code",
      "source": [
        "# Created by processing a string of text with the nlp object\n",
        "doc = nlp(\"Programming for AI!\")\n",
        "\n",
        "# Iterate over tokens in a Doc\n",
        "for token in doc:\n",
        "    print(token.text)"
      ],
      "metadata": {
        "colab": {
          "base_uri": "https://localhost:8080/"
        },
        "id": "hKQNjtZ9rOtD",
        "outputId": "29d183b0-b063-4fcc-b6f4-27ccd7bc5c1c"
      },
      "execution_count": 6,
      "outputs": [
        {
          "output_type": "stream",
          "name": "stdout",
          "text": [
            "Programming\n",
            "for\n",
            "AI\n",
            "!\n"
          ]
        }
      ]
    },
    {
      "cell_type": "code",
      "source": [
        "doc = nlp(\"Programming for AI!\")\n",
        "\n",
        "# Index into the Doc to get a single Token\n",
        "token = doc[1]\n",
        "\n",
        "# Get the token text via the .text attribute\n",
        "print(token.text)"
      ],
      "metadata": {
        "colab": {
          "base_uri": "https://localhost:8080/"
        },
        "id": "UjdxQ3u4rWFY",
        "outputId": "bb055f5f-3684-49eb-c635-f54e0e4c475f"
      },
      "execution_count": 7,
      "outputs": [
        {
          "output_type": "stream",
          "name": "stdout",
          "text": [
            "for\n"
          ]
        }
      ]
    },
    {
      "cell_type": "code",
      "source": [
        "doc = nlp(\"Programming for AI!\")\n",
        "\n",
        "# A slice from the Doc is a Span object\n",
        "span = doc[1:3]\n",
        "\n",
        "# Get the span text via the .text attribute\n",
        "print(span.text)"
      ],
      "metadata": {
        "colab": {
          "base_uri": "https://localhost:8080/"
        },
        "id": "agrLju4ergP9",
        "outputId": "5b4eccac-5291-4a38-ce97-10115448f339"
      },
      "execution_count": 8,
      "outputs": [
        {
          "output_type": "stream",
          "name": "stdout",
          "text": [
            "for AI\n"
          ]
        }
      ]
    },
    {
      "cell_type": "code",
      "source": [
        "doc = nlp(\"It costs $5.\")\n",
        "print(\"Index:   \", [token.i for token in doc])\n",
        "print(\"Text:    \", [token.text for token in doc])\n",
        "\n",
        "print(\"is_alpha:\", [token.is_alpha for token in doc])\n",
        "print(\"is_punct:\", [token.is_punct for token in doc])\n",
        "print(\"like_num:\", [token.like_num for token in doc])"
      ],
      "metadata": {
        "colab": {
          "base_uri": "https://localhost:8080/"
        },
        "id": "f1Gz1i7PrmHc",
        "outputId": "3bf64e33-a918-4dd5-b412-e077367eed72"
      },
      "execution_count": 5,
      "outputs": [
        {
          "output_type": "stream",
          "name": "stdout",
          "text": [
            "Index:    [0, 1, 2, 3, 4]\n",
            "Text:     ['It', 'costs', '$', '5', '.']\n",
            "is_alpha: [True, True, False, False, False]\n",
            "is_punct: [False, False, False, False, True]\n",
            "like_num: [False, False, False, True, False]\n"
          ]
        }
      ]
    },
    {
      "cell_type": "markdown",
      "source": [
        "# **Do It Yourself**"
      ],
      "metadata": {
        "id": "zLCjTpbur3W2"
      }
    },
    {
      "cell_type": "code",
      "source": [
        "# Import spaCy\n",
        "import ____\n",
        "\n",
        "# Create the English nlp object\n",
        "nlp = ____\n",
        "\n",
        "# Process a text\n",
        "doc = nlp(\"This is a sentence.\")\n",
        "\n",
        "# Print the document text\n",
        "print(____.text)"
      ],
      "metadata": {
        "id": "3tRoEENlrxIO"
      },
      "execution_count": null,
      "outputs": []
    },
    {
      "cell_type": "markdown",
      "source": [
        "# Documents, spans and tokens\n",
        "\n",
        "When you call nlp on a string, spaCy first tokenizes the text and creates a document object. In this exercise, you’ll learn more about the Doc, as well as its views Token and Span.\n",
        "\n",
        "## Step 1\n",
        "Use spacy.blank to create the English nlp object.\n",
        "Process the text and instantiate a Doc object in the variable doc.\n",
        "Select the first token of the Doc and print its text."
      ],
      "metadata": {
        "id": "40kKAUbusGRZ"
      }
    },
    {
      "cell_type": "code",
      "source": [
        "# Import spaCy and create the English nlp object\n",
        "import ____\n",
        "\n",
        "nlp = ____\n",
        "\n",
        "# Process the text\n",
        "doc = ____(\"I like tree kangaroos and narwhals.\")\n",
        "\n",
        "# Select the first token\n",
        "first_token = doc[____]\n",
        "\n",
        "# Print the first token's text\n",
        "print(first_token.____)"
      ],
      "metadata": {
        "id": "bKtgsILzsEea"
      },
      "execution_count": null,
      "outputs": []
    },
    {
      "cell_type": "markdown",
      "source": [
        "## Step 2\n",
        "Use spacy.blank to create the English nlp object.\n",
        "Process the text and instantiate a Doc object in the variable doc.\n",
        "Create a slice of the Doc for the tokens “tree kangaroos” and “tree kangaroos and narwhals”."
      ],
      "metadata": {
        "id": "Mc0wEKi6sUYp"
      }
    },
    {
      "cell_type": "code",
      "source": [
        "# Import spaCy and create the English nlp object\n",
        "import ____\n",
        "\n",
        "nlp = ____\n",
        "\n",
        "# Process the text\n",
        "doc = ____(\"I like tree kangaroos and narwhals.\")\n",
        "\n",
        "# A slice of the Doc for \"tree kangaroos\"\n",
        "tree_kangaroos = ____\n",
        "print(tree_kangaroos.text)\n",
        "\n",
        "# A slice of the Doc for \"tree kangaroos and narwhals\" (without the \".\")\n",
        "tree_kangaroos_and_narwhals = ____\n",
        "print(tree_kangaroos_and_narwhals.text)"
      ],
      "metadata": {
        "id": "k09IPMBFsfmF"
      },
      "execution_count": null,
      "outputs": []
    },
    {
      "cell_type": "markdown",
      "source": [
        "# Lexical Attributes\n",
        "\n",
        "In this example, you’ll use spaCy’s Doc and Token objects, and lexical attributes to find percentages in a text. You’ll be looking for two subsequent tokens: a number and a percent sign.\n",
        "\n",
        "Use the like_num token attribute to check whether a token in the doc resembles a number.\n",
        "Get the token following the current token in the document. The index of the next token in the doc is token.i + 1.\n",
        "Check whether the next token’s text attribute is a percent sign ”%“."
      ],
      "metadata": {
        "id": "MMsfEFYOsmpC"
      }
    },
    {
      "cell_type": "code",
      "source": [
        "import spacy\n",
        "\n",
        "nlp = spacy.blank(\"en\")\n",
        "\n",
        "# Process the text\n",
        "doc = nlp(\n",
        "    \"In 1990, more than 60% of people in East Asia were in extreme poverty. \"\n",
        "    \"Now less than 4% are.\"\n",
        ")\n",
        "\n",
        "# Iterate over the tokens in the doc\n",
        "for token in doc:\n",
        "    # Check if the token resembles a number\n",
        "    if ____.____:\n",
        "        # Get the next token in the document\n",
        "        next_token = ____[____]\n",
        "        # Check if the next token's text equals \"%\"\n",
        "        if next_token.____ == \"%\":\n",
        "            print(\"Percentage found:\", token.text)\n",
        "\n",
        "#Hint: To get the token at a certain index, you can index into the doc. For example, doc[5] is the token at index 5.\n"
      ],
      "metadata": {
        "id": "epWsfFMcsvkf"
      },
      "execution_count": null,
      "outputs": []
    },
    {
      "cell_type": "markdown",
      "source": [
        "# Trained pipelines\n",
        "\n",
        "The pipelines we’re using in this course are already pre-installed. For more details on spaCy’s trained pipelines and how to install them on your machine, see the Spacy usage model documentation.\n",
        "\n",
        "* Use spacy.load to load the small English pipeline \"en_core_web_sm\".\n",
        "* Process the text and print the document text."
      ],
      "metadata": {
        "id": "oX6boNHPs8c2"
      }
    },
    {
      "cell_type": "code",
      "source": [
        "import spacy\n",
        "\n",
        "# Load the \"en_core_web_sm\" pipeline\n",
        "nlp = ____\n",
        "\n",
        "text = \"It’s official: Apple is the first U.S. public company to reach a $1 trillion market value\"\n",
        "\n",
        "# Process the text\n",
        "doc = ____\n",
        "\n",
        "# Print the document text\n",
        "print(____.____)"
      ],
      "metadata": {
        "id": "MBugjjmds6y3"
      },
      "execution_count": null,
      "outputs": []
    },
    {
      "cell_type": "markdown",
      "source": [
        "## Predicting Linguistic annotations\n",
        "\n",
        "You’ll now get to try one of spaCy’s trained pipeline packages and see its predictions in action. Feel free to try it out on your own text! To find out what a tag or label means, you can call spacy.explain in the loop. For example: spacy.explain(\"PROPN\") or spacy.explain(\"GPE\")."
      ],
      "metadata": {
        "id": "oJvXaZUytpLO"
      }
    },
    {
      "cell_type": "markdown",
      "source": [
        "## Part 1\n",
        "* Process the text with the nlp object and create a doc.\n",
        "* For each token, print the token text, the token’s .pos_ (part-of-speech tag) and the token’s .dep_ (dependency label)."
      ],
      "metadata": {
        "id": "1GpESAwZtwsT"
      }
    },
    {
      "cell_type": "code",
      "source": [
        "import spacy\n",
        "\n",
        "nlp = spacy.load(\"en_core_web_sm\")\n",
        "\n",
        "text = \"It’s official: Apple is the first U.S. public company to reach a $1 trillion market value\"\n",
        "\n",
        "# Process the text\n",
        "doc = ____\n",
        "\n",
        "for token in doc:\n",
        "    # Get the token text, part-of-speech tag and dependency label\n",
        "    token_text = ____.____\n",
        "    token_pos = ____.____\n",
        "    token_dep = ____.____\n",
        "    # This is for formatting only\n",
        "    print(f\"{token_text:<12}{token_pos:<10}{token_dep:<10}\")"
      ],
      "metadata": {
        "id": "1Zq-Y5T1tyew"
      },
      "execution_count": null,
      "outputs": []
    },
    {
      "cell_type": "markdown",
      "source": [
        "## Part 2\n",
        "* Process the text and create a doc object.\n",
        "* Iterate over the doc.ents and print the entity text and label_ attribute."
      ],
      "metadata": {
        "id": "ZYKpryBktzKd"
      }
    },
    {
      "cell_type": "code",
      "source": [
        "import spacy\n",
        "\n",
        "nlp = spacy.load(\"en_core_web_sm\")\n",
        "\n",
        "text = \"It’s official: Apple is the first U.S. public company to reach a $1 trillion market value\"\n",
        "\n",
        "# Process the text\n",
        "doc = ____\n",
        "\n",
        "# Iterate over the predicted entities\n",
        "for ent in ____.____:\n",
        "    # Print the entity text and its label\n",
        "    print(ent.____, ____.____)"
      ],
      "metadata": {
        "id": "F90kYpzjuCXX"
      },
      "execution_count": null,
      "outputs": []
    },
    {
      "cell_type": "markdown",
      "source": [
        "## Predicting named entities in context\n",
        "\n",
        "Models are statistical and not *always* right. Whether their predictions are correct depends on the training data and the text you’re processing. Let’s take a look at an example.\n",
        "\n",
        "* Process the text with the nlp object.\n",
        "* Iterate over the entities and print the entity text and label.\n",
        "* Looks like the model didn’t predict “iPhone X”. Create a span for those tokens manually.\n",
        "\n"
      ],
      "metadata": {
        "id": "h6YwMgMFuGan"
      }
    },
    {
      "cell_type": "code",
      "source": [
        "import spacy\n",
        "\n",
        "nlp = spacy.load(\"en_core_web_sm\")\n",
        "\n",
        "text = \"Upcoming iPhone X release date leaked as Apple reveals pre-orders\"\n",
        "\n",
        "# Process the text\n",
        "doc = ____\n",
        "\n",
        "# Iterate over the entities\n",
        "for ____ in ____.____:\n",
        "    # Print the entity text and label\n",
        "    print(____.____, ____.____)\n",
        "\n",
        "# Get the span for \"iPhone X\"\n",
        "iphone_x = ____\n",
        "\n",
        "# Print the span text\n",
        "print(\"Missing entity:\", iphone_x.text)"
      ],
      "metadata": {
        "id": "zfP3jSTRuZEB"
      },
      "execution_count": null,
      "outputs": []
    },
    {
      "cell_type": "markdown",
      "source": [
        "# Rule-based Matching\n",
        "\n",
        "Compared to regular expressions, the matcher works with Doc and Token objects instead of only strings.\n",
        "\n",
        "It's also more flexible: you can search for texts but also other lexical attributes.\n"
      ],
      "metadata": {
        "id": "54mW0z9RubYr"
      }
    },
    {
      "cell_type": "markdown",
      "source": [
        "# Using the Matcher\n",
        "\n",
        "Let’s try spaCy’s rule-based Matcher. You’ll be using the example from the previous exercise and write a pattern that can match the phrase “iPhone X” in the text.\n",
        "\n",
        "* Import the Matcher from spacy.matcher.\n",
        "* Initialize it with the nlp object’s shared vocab.\n",
        "* Create a pattern that matches the \"TEXT\" values of two tokens: \"iPhone\" and \"X\".\n",
        "* Use the matcher.add method to add the pattern to the matcher.\n",
        "* Call the matcher on the doc and store the result in the variable matches.\n",
        "* Iterate over the matches and get the matched span from the start to the end index."
      ],
      "metadata": {
        "id": "ZLDzE9mMu_MZ"
      }
    },
    {
      "cell_type": "code",
      "source": [
        "import spacy\n",
        "\n",
        "# Import the Matcher\n",
        "from spacy.____ import ____\n",
        "\n",
        "nlp = spacy.load(\"en_core_web_sm\")\n",
        "doc = nlp(\"Upcoming iPhone X release date leaked as Apple reveals pre-orders\")\n",
        "\n",
        "# Initialize the Matcher with the shared vocabulary\n",
        "matcher = ____(____.____)\n",
        "\n",
        "# Create a pattern matching two tokens: \"iPhone\" and \"X\"\n",
        "pattern = [____]\n",
        "\n",
        "# Add the pattern to the matcher\n",
        "____.____(\"IPHONE_X_PATTERN\", ____)\n",
        "\n",
        "# Use the matcher on the doc\n",
        "matches = ____\n",
        "print(\"Matches:\", [doc[start:end].text for match_id, start, end in matches])"
      ],
      "metadata": {
        "id": "z4jID2o8ubBi"
      },
      "execution_count": null,
      "outputs": []
    },
    {
      "cell_type": "markdown",
      "source": [
        "# Writing match patterns\n",
        "\n",
        "In this exercise, you’ll practice writing more complex match patterns using different token attributes and operators.\n",
        "\n",
        "# Part 1\n",
        "* Write one pattern that only matches mentions of the full iOS versions: “iOS 7”, “iOS 11” and “iOS 10”."
      ],
      "metadata": {
        "id": "Yg66M2WpvQQS"
      }
    },
    {
      "cell_type": "code",
      "source": [
        "import spacy\n",
        "from spacy.matcher import Matcher\n",
        "\n",
        "nlp = spacy.load(\"en_core_web_sm\")\n",
        "matcher = Matcher(nlp.vocab)\n",
        "\n",
        "doc = nlp(\n",
        "    \"After making the iOS update you won't notice a radical system-wide \"\n",
        "    \"redesign: nothing like the aesthetic upheaval we got with iOS 7. Most of \"\n",
        "    \"iOS 11's furniture remains the same as in iOS 10. But you will discover \"\n",
        "    \"some tweaks once you delve a little deeper.\"\n",
        ")\n",
        "\n",
        "# Write a pattern for full iOS versions (\"iOS 7\", \"iOS 11\", \"iOS 10\")\n",
        "pattern = [{\"TEXT\": ____}, {\"IS_DIGIT\": ____}]\n",
        "\n",
        "# Add the pattern to the matcher and apply the matcher to the doc\n",
        "matcher.add(\"IOS_VERSION_PATTERN\", [pattern])\n",
        "matches = matcher(doc)\n",
        "print(\"Total matches found:\", len(matches))\n",
        "\n",
        "# Iterate over the matches and print the span text\n",
        "for match_id, start, end in matches:\n",
        "    print(\"Match found:\", doc[start:end].text)"
      ],
      "metadata": {
        "id": "DNhO5JN5vau0"
      },
      "execution_count": null,
      "outputs": []
    },
    {
      "cell_type": "markdown",
      "source": [
        "## Part 2\n",
        "\n",
        "* Write one pattern that only matches forms of “download” (tokens with the lemma “download”), followed by a token with the part-of-speech tag \"PROPN\" (proper noun)."
      ],
      "metadata": {
        "id": "z6UeACLPve0Y"
      }
    },
    {
      "cell_type": "code",
      "source": [
        "import spacy\n",
        "from spacy.matcher import Matcher\n",
        "\n",
        "nlp = spacy.load(\"en_core_web_sm\")\n",
        "matcher = Matcher(nlp.vocab)\n",
        "\n",
        "doc = nlp(\n",
        "    \"i downloaded Fortnite on my laptop and can't open the game at all. Help? \"\n",
        "    \"so when I was downloading Minecraft, I got the Windows version where it \"\n",
        "    \"is the '.zip' folder and I used the default program to unpack it... do \"\n",
        "    \"I also need to download Winzip?\"\n",
        ")\n",
        "\n",
        "# Write a pattern that matches a form of \"download\" plus proper noun\n",
        "pattern = [{\"LEMMA\": ____}, {\"POS\": ____}]\n",
        "\n",
        "# Add the pattern to the matcher and apply the matcher to the doc\n",
        "matcher.add(\"DOWNLOAD_THINGS_PATTERN\", [pattern])\n",
        "matches = matcher(doc)\n",
        "print(\"Total matches found:\", len(matches))\n",
        "\n",
        "# Iterate over the matches and print the span text\n",
        "for match_id, start, end in matches:\n",
        "    print(\"Match found:\", doc[start:end].text)"
      ],
      "metadata": {
        "id": "vK9CMq7OvjhF"
      },
      "execution_count": null,
      "outputs": []
    },
    {
      "cell_type": "markdown",
      "source": [
        "## Part 3\n",
        "\n",
        "* Write **one** pattern that matches adjectives (\"ADJ\") followed by one or two \"NOUN\"s (one noun and one optional noun).\n",
        "import spacy"
      ],
      "metadata": {
        "id": "r69Xzu5evpeD"
      }
    },
    {
      "cell_type": "code",
      "source": [
        "import spacy\n",
        "from spacy.matcher import Matcher\n",
        "\n",
        "nlp = spacy.load(\"en_core_web_sm\")\n",
        "matcher = Matcher(nlp.vocab)\n",
        "\n",
        "doc = nlp(\n",
        "    \"Features of the app include a beautiful design, smart search, automatic \"\n",
        "    \"labels and optional voice responses.\"\n",
        ")\n"
      ],
      "metadata": {
        "id": "0GKDJVcNvwEg"
      },
      "execution_count": null,
      "outputs": []
    },
    {
      "cell_type": "code",
      "source": [
        "# Write a pattern for adjective plus one or two nouns\n",
        "pattern = [{\"POS\": ____}, {\"POS\": ____}, {\"POS\": ____, \"OP\": ____}]\n",
        "\n",
        "# Add the pattern to the matcher and apply the matcher to the doc\n",
        "matcher.add(\"ADJ_NOUN_PATTERN\", [pattern])\n",
        "matches = matcher(doc)\n",
        "print(\"Total matches found:\", len(matches))\n",
        "\n",
        "# Iterate over the matches and print the span text\n",
        "for match_id, start, end in matches:\n",
        "    print(\"Match found:\", doc[start:end].text)"
      ],
      "metadata": {
        "id": "wVhA_hN0v0bk"
      },
      "execution_count": null,
      "outputs": []
    }
  ]
}